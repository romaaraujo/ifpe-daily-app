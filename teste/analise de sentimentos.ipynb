from google.colab import drive
drive.mount('/content/drive')

import nltk
import re
import pandas as pd
from sklearn.feature_extraction.text import CountVectorizer
from sklearn.naive_bayes import MultinomialNB
from sklearn import metrics
from sklearn.model_selection import cross_val_predict

df = pd.read_csv('/content/drive/MyDrive/Colab Notebooks//Tweets_Mg.csv', encoding='utf-8')


df.head()

df.Classificacao.value_counts()

df.drop_duplicates(['Text'], inplace=True)

posts = df["Text"]
posts

classes = df['Classificacao']
classes

resultados = cross_val_predict(modelo, freq_tweets, classes, cv = 10)
resultados

metrics.accuracy_score(classes, resultados)

sentimentos = ["Positivo", "Negativo", "Neutro"]
print(metrics.classification_report(classes, resultados, sentimentos))

print(pd.crosstab(classes, resultados, rownames = ["Real"], colnames=["Predito"], margins=True))
